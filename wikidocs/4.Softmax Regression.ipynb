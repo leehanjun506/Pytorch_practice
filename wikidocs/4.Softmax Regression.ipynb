{
 "cells": [
  {
   "cell_type": "markdown",
   "id": "d62c5175",
   "metadata": {},
   "source": [
    "# 소프트맥스 회귀(Softmax Regression)\n",
    "---\n",
    "\n",
    "## 1. 원-핫 인코딩(One-Hot Encoding)\n",
    "\n",
    "### 1. 원-핫 인코딩(One-hot encoding)이란?\n",
    "범주형 데이터를 처리할 때 레이블을 표현하는 방법  \n",
    "선택해야 하는 선택지의 개수만큼의 차원을 가지면서, 각 선택지의 인덱스에 해당하는 원소에는 1, 나머지 원소는 0의 값을 가지도록 하는 표현 방법이다.\n",
    "\n",
    "### 2. 원-핫 벡터의 무작위성\n",
    "원-핫 벡터로 표현하지 않고 정수 인코딩을 사용하여 손실 함수로 MSE를 사용한다면 클래스간의 순서에 따라 오차의 차이가 발생하고 각 클래스 간의 오차가 균등하지 않아진다.  \n",
    "원-핫 벡터는 각 클래스의 표현 방법이 무작위성을 가진다는 점을 표현할 수 있다.  \n",
    "하지만 무작위성은 때로는 단어의 유사성을 구할 수 없다는 단점으로 언급되기도 한다.\n",
    "\n",
    "## 2. 소프트맥스 회귀(Softmax Regression) 이해하기\n",
    "### 1. 다중 클래스 분류(Multi-class Classification)\n",
    "세 개 이상의 답 중 하나를 고르는 문제를 다중 클래스 분류(Multi-class Classification)이라고 한다.\n",
    "소프트맥스 회귀는 각 클래스마다 소수 확률을 할당한다. 이때 총 확률의 합은 1이 되어 각 선택지가 정답일 확률로 표현된다.\n",
    "### 2. 소프트맥스 함수(Softmax function)\n",
    "소프트맥스 함수는 분류해야하는 클래스의 총 개수를 k라고 할 때, k차원의 벡터를 입력받아 각 클래스에 대한 확률을 추정한다.\n",
    "### 3. 비용 함수(Cost function)\n",
    "소프트맥스 회귀에서는 비용 함수로 크로스 엔트로피 함수를 사용한다.  \n",
    "크로스 엔트로피 함수인 경우 실제값이 원-핫 벡터로 표현되고 예측값이 실제값과 같아진다면 비용 함수의 값이 0이 되기 때문이다.  \n",
    "## 3. 소프트맥스 회귀의 비용 함수 구현하기\n",
    "### 1. 파이토치로 소프트맥스의 비용 함수 구현하기(low-level)"
   ]
  },
  {
   "cell_type": "code",
   "execution_count": 47,
   "id": "8d46c64e",
   "metadata": {},
   "outputs": [
    {
     "name": "stdout",
     "output_type": "stream",
     "text": [
      "tensor([0.0900, 0.2447, 0.6652])\n",
      "tensor(1.)\n",
      "tensor([[0.2645, 0.1639, 0.1855, 0.2585, 0.1277],\n",
      "        [0.2430, 0.1624, 0.2322, 0.1930, 0.1694],\n",
      "        [0.2226, 0.1986, 0.2326, 0.1594, 0.1868]], grad_fn=<SoftmaxBackward>)\n",
      "tensor([0, 2, 1])\n",
      "tensor([[1., 0., 0., 0., 0.],\n",
      "        [0., 0., 1., 0., 0.],\n",
      "        [0., 1., 0., 0., 0.]])\n",
      "tensor(1.4689, grad_fn=<MeanBackward0>)\n"
     ]
    }
   ],
   "source": [
    "import torch\n",
    "import torch.nn.functional as F\n",
    "\n",
    "torch.manual_seed(1)\n",
    "\n",
    "z = torch.FloatTensor([1,2,3])\n",
    "hypothesis = F.softmax(z,dim=0)\n",
    "print(hypothesis)\n",
    "print(hypothesis.sum())\n",
    "\n",
    "z= torch.rand(3,5,requires_grad=True)\n",
    "hypothesis = F.softmax(z,dim=1) # 각 샘플에 대해서 소프트맥스 함수를 적용하여야 하므로 두번째 차원에 대해 소프트맥스 함수를 적용\n",
    "print(hypothesis)\n",
    "\n",
    "y = torch.randint(5,(3,)).long() # 각 샘플에 대한 임의의 레이블\n",
    "print(y)\n",
    "\n",
    "y_one_hot = torch.zeros_like(hypothesis)\n",
    "y_one_hot.scatter_(1,y.unsqueeze(1),1) # dim=1 : 행 방향으로 수행하라, y.unsqueeze(1)이 알려주는 위치에 대해 1을 넣어라\n",
    "print(y_one_hot) # one-hot encoding 적용\n",
    "\n",
    "cost = (y_one_hot * -torch.log(hypothesis)).sum(dim=1).mean() # sum(dim=1) 로 하나의 데이터의 총합 구하고 mean()으로 n개 데이터의 평균을 구한다.\n",
    "print(cost)"
   ]
  },
  {
   "cell_type": "markdown",
   "id": "60f79763",
   "metadata": {},
   "source": [
    "### 2. 파이토치로 소프트맥스의 비용 함수 구현하기(high-level)\n",
    "\n",
    "F.softmax() + torch.log() = F.log_softmax()  \n",
    "F.log_softmax() + F.nll_loss() = F.cross_entropy()  \n",
    "log likelihood 가 높아 질수록 cross_entropy 작아짐"
   ]
  },
  {
   "cell_type": "code",
   "execution_count": 48,
   "id": "887f46dd",
   "metadata": {},
   "outputs": [
    {
     "name": "stdout",
     "output_type": "stream",
     "text": [
      "tensor(1.4689, grad_fn=<MeanBackward0>)\n",
      "tensor(1.4689, grad_fn=<NllLossBackward>)\n",
      "tensor(1.4689, grad_fn=<NllLossBackward>)\n"
     ]
    }
   ],
   "source": [
    "cost = (y_one_hot * -F.log_softmax(z,dim=1)).sum(dim=1).mean()\n",
    "print(cost)\n",
    "\n",
    "print(F.nll_loss(F.log_softmax(z,dim=1),y)) # negative log likelihood : 원-핫 벡터를 넣을 필요없이 바로 실제값 인자로 사용\n",
    "\n",
    "print(F.cross_entropy(z,y)) # F.cross_entropy 는 비용 함수에 소프트맥스 함수 포함"
   ]
  },
  {
   "cell_type": "markdown",
   "id": "abfa8cb0",
   "metadata": {},
   "source": [
    "## 4. 소프트맥스 회귀 구현하기\n",
    "### 1. 소프트맥스 회귀 구현하기(low-level)"
   ]
  },
  {
   "cell_type": "code",
   "execution_count": 49,
   "id": "9c15c3c3",
   "metadata": {},
   "outputs": [
    {
     "name": "stdout",
     "output_type": "stream",
     "text": [
      "tensor([[0., 0., 1.],\n",
      "        [0., 0., 1.],\n",
      "        [0., 0., 1.],\n",
      "        [0., 1., 0.],\n",
      "        [0., 1., 0.],\n",
      "        [0., 1., 0.],\n",
      "        [1., 0., 0.],\n",
      "        [1., 0., 0.]])\n",
      "Epoch  100/10000 Cost: 0.714269\n",
      "Epoch  200/10000 Cost: 0.638430\n",
      "Epoch  300/10000 Cost: 0.591185\n",
      "Epoch  400/10000 Cost: 0.554105\n",
      "Epoch  500/10000 Cost: 0.522028\n",
      "Epoch  600/10000 Cost: 0.492792\n",
      "Epoch  700/10000 Cost: 0.465232\n",
      "Epoch  800/10000 Cost: 0.438588\n",
      "Epoch  900/10000 Cost: 0.412274\n",
      "Epoch 1000/10000 Cost: 0.385798\n",
      "Epoch 1100/10000 Cost: 0.358778\n",
      "Epoch 1200/10000 Cost: 0.331299\n",
      "Epoch 1300/10000 Cost: 0.307091\n",
      "Epoch 1400/10000 Cost: 0.294750\n",
      "Epoch 1500/10000 Cost: 0.285370\n",
      "Epoch 1600/10000 Cost: 0.276574\n",
      "Epoch 1700/10000 Cost: 0.268302\n",
      "Epoch 1800/10000 Cost: 0.260504\n",
      "Epoch 1900/10000 Cost: 0.253138\n",
      "Epoch 2000/10000 Cost: 0.246166\n",
      "Epoch 2100/10000 Cost: 0.239555\n",
      "Epoch 2200/10000 Cost: 0.233277\n",
      "Epoch 2300/10000 Cost: 0.227307\n",
      "Epoch 2400/10000 Cost: 0.221621\n",
      "Epoch 2500/10000 Cost: 0.216199\n",
      "Epoch 2600/10000 Cost: 0.211023\n",
      "Epoch 2700/10000 Cost: 0.206077\n",
      "Epoch 2800/10000 Cost: 0.201344\n",
      "Epoch 2900/10000 Cost: 0.196813\n",
      "Epoch 3000/10000 Cost: 0.192469\n",
      "Epoch 3100/10000 Cost: 0.188302\n",
      "Epoch 3200/10000 Cost: 0.184302\n",
      "Epoch 3300/10000 Cost: 0.180457\n",
      "Epoch 3400/10000 Cost: 0.176761\n",
      "Epoch 3500/10000 Cost: 0.173203\n",
      "Epoch 3600/10000 Cost: 0.169778\n",
      "Epoch 3700/10000 Cost: 0.166477\n",
      "Epoch 3800/10000 Cost: 0.163295\n",
      "Epoch 3900/10000 Cost: 0.160225\n",
      "Epoch 4000/10000 Cost: 0.157261\n",
      "Epoch 4100/10000 Cost: 0.154398\n",
      "Epoch 4200/10000 Cost: 0.151632\n",
      "Epoch 4300/10000 Cost: 0.148957\n",
      "Epoch 4400/10000 Cost: 0.146369\n",
      "Epoch 4500/10000 Cost: 0.143865\n",
      "Epoch 4600/10000 Cost: 0.141440\n",
      "Epoch 4700/10000 Cost: 0.139090\n",
      "Epoch 4800/10000 Cost: 0.136813\n",
      "Epoch 4900/10000 Cost: 0.134605\n",
      "Epoch 5000/10000 Cost: 0.132463\n",
      "Epoch 5100/10000 Cost: 0.130385\n",
      "Epoch 5200/10000 Cost: 0.128367\n",
      "Epoch 5300/10000 Cost: 0.126408\n",
      "Epoch 5400/10000 Cost: 0.124504\n",
      "Epoch 5500/10000 Cost: 0.122654\n",
      "Epoch 5600/10000 Cost: 0.120854\n",
      "Epoch 5700/10000 Cost: 0.119105\n",
      "Epoch 5800/10000 Cost: 0.117402\n",
      "Epoch 5900/10000 Cost: 0.115745\n",
      "Epoch 6000/10000 Cost: 0.114132\n",
      "Epoch 6100/10000 Cost: 0.112561\n",
      "Epoch 6200/10000 Cost: 0.111030\n",
      "Epoch 6300/10000 Cost: 0.109539\n",
      "Epoch 6400/10000 Cost: 0.108085\n",
      "Epoch 6500/10000 Cost: 0.106668\n",
      "Epoch 6600/10000 Cost: 0.105285\n",
      "Epoch 6700/10000 Cost: 0.103936\n",
      "Epoch 6800/10000 Cost: 0.102620\n",
      "Epoch 6900/10000 Cost: 0.101335\n",
      "Epoch 7000/10000 Cost: 0.100080\n",
      "Epoch 7100/10000 Cost: 0.098855\n",
      "Epoch 7200/10000 Cost: 0.097658\n",
      "Epoch 7300/10000 Cost: 0.096488\n",
      "Epoch 7400/10000 Cost: 0.095345\n",
      "Epoch 7500/10000 Cost: 0.094228\n",
      "Epoch 7600/10000 Cost: 0.093135\n",
      "Epoch 7700/10000 Cost: 0.092066\n",
      "Epoch 7800/10000 Cost: 0.091021\n",
      "Epoch 7900/10000 Cost: 0.089998\n",
      "Epoch 8000/10000 Cost: 0.088997\n",
      "Epoch 8100/10000 Cost: 0.088017\n",
      "Epoch 8200/10000 Cost: 0.087057\n",
      "Epoch 8300/10000 Cost: 0.086118\n",
      "Epoch 8400/10000 Cost: 0.085197\n",
      "Epoch 8500/10000 Cost: 0.084296\n",
      "Epoch 8600/10000 Cost: 0.083412\n",
      "Epoch 8700/10000 Cost: 0.082546\n",
      "Epoch 8800/10000 Cost: 0.081698\n",
      "Epoch 8900/10000 Cost: 0.080866\n",
      "Epoch 9000/10000 Cost: 0.080050\n",
      "Epoch 9100/10000 Cost: 0.079250\n",
      "Epoch 9200/10000 Cost: 0.078465\n",
      "Epoch 9300/10000 Cost: 0.077695\n",
      "Epoch 9400/10000 Cost: 0.076939\n",
      "Epoch 9500/10000 Cost: 0.076198\n",
      "Epoch 9600/10000 Cost: 0.075470\n",
      "Epoch 9700/10000 Cost: 0.074755\n",
      "Epoch 9800/10000 Cost: 0.074054\n",
      "Epoch 9900/10000 Cost: 0.073365\n",
      "Epoch 10000/10000 Cost: 0.072688\n",
      "tensor([[7.0167e-10, 3.4373e-06, 1.0000e+00],\n",
      "        [6.1909e-03, 7.8516e-02, 9.1529e-01],\n",
      "        [3.9130e-13, 1.0205e-01, 8.9795e-01],\n",
      "        [3.5701e-10, 8.9233e-01, 1.0767e-01],\n",
      "        [9.0553e-02, 9.0038e-01, 9.0705e-03],\n",
      "        [4.3366e-02, 9.5663e-01, 3.4437e-18],\n",
      "        [9.0006e-01, 9.9941e-02, 2.7259e-11],\n",
      "        [9.8329e-01, 1.6708e-02, 1.4453e-14]], grad_fn=<SoftmaxBackward>)\n"
     ]
    }
   ],
   "source": [
    "import torch\n",
    "import torch.nn as nn\n",
    "import torch.nn.functional as F\n",
    "import torch.optim as optim\n",
    "\n",
    "torch.manual_seed(1)\n",
    "\n",
    "x_train = [[1, 2, 1, 1],\n",
    "           [2, 1, 3, 2],\n",
    "           [3, 1, 3, 4],\n",
    "           [4, 1, 5, 5],\n",
    "           [1, 7, 5, 5],\n",
    "           [1, 2, 5, 6],\n",
    "           [1, 6, 6, 6],\n",
    "           [1, 7, 7, 7]]\n",
    "y_train = [2, 2, 2, 1, 1, 1, 0, 0] # 3개의 클래스 가짐\n",
    "x_train = torch.FloatTensor(x_train)\n",
    "y_train = torch.LongTensor(y_train)\n",
    "\n",
    "y_one_hot = torch.zeros(8,3)\n",
    "y_one_hot.scatter_(1,y_train.unsqueeze(1),1)\n",
    "print(y_one_hot)\n",
    "# 모델 초기화\n",
    "W = torch.zeros((4,3),requires_grad=True)\n",
    "b = torch.zeros(1,requires_grad=True)\n",
    "\n",
    "# optimizer 설정\n",
    "optimizer = optim.SGD([W,b],lr=0.1)\n",
    "\n",
    "nb_epochs = 10000\n",
    "\n",
    "for epoch in range(1,nb_epochs+1):\n",
    "    \n",
    "    # 가설\n",
    "    hypothesis = F.softmax(x_train.matmul(W)+b,dim=1)\n",
    "    \n",
    "    # 비용 함수\n",
    "    cost = (y_one_hot * -torch.log(hypothesis)).sum(dim=1).mean()\n",
    "    \n",
    "    # cost로 H(x) 개선\n",
    "    optimizer.zero_grad()\n",
    "    cost.backward()\n",
    "    optimizer.step()\n",
    "    \n",
    "    if epoch % 100 == 0:\n",
    "        print('Epoch {:4d}/{} Cost: {:.6f}'.format(epoch, nb_epochs, cost.item()))\n",
    "print(hypothesis)"
   ]
  },
  {
   "cell_type": "markdown",
   "id": "79c4508e",
   "metadata": {},
   "source": [
    "### 2. 소프트맥스 회귀 구현하기(high-level)\n",
    "F.cross_entropy 에 소프트맥스함수가 포함 되어 있어 따로 가설 설정 필요x"
   ]
  },
  {
   "cell_type": "code",
   "execution_count": 50,
   "id": "432e8674",
   "metadata": {
    "scrolled": true
   },
   "outputs": [
    {
     "name": "stdout",
     "output_type": "stream",
     "text": [
      "Epoch  100/10000 Cost: 0.714269\n",
      "Epoch  200/10000 Cost: 0.638430\n",
      "Epoch  300/10000 Cost: 0.591185\n",
      "Epoch  400/10000 Cost: 0.554105\n",
      "Epoch  500/10000 Cost: 0.522028\n",
      "Epoch  600/10000 Cost: 0.492791\n",
      "Epoch  700/10000 Cost: 0.465232\n",
      "Epoch  800/10000 Cost: 0.438588\n",
      "Epoch  900/10000 Cost: 0.412274\n",
      "Epoch 1000/10000 Cost: 0.385797\n",
      "Epoch 1100/10000 Cost: 0.358777\n",
      "Epoch 1200/10000 Cost: 0.331299\n",
      "Epoch 1300/10000 Cost: 0.307091\n",
      "Epoch 1400/10000 Cost: 0.294751\n",
      "Epoch 1500/10000 Cost: 0.285370\n",
      "Epoch 1600/10000 Cost: 0.276574\n",
      "Epoch 1700/10000 Cost: 0.268302\n",
      "Epoch 1800/10000 Cost: 0.260504\n",
      "Epoch 1900/10000 Cost: 0.253138\n",
      "Epoch 2000/10000 Cost: 0.246166\n",
      "Epoch 2100/10000 Cost: 0.239555\n",
      "Epoch 2200/10000 Cost: 0.233277\n",
      "Epoch 2300/10000 Cost: 0.227307\n",
      "Epoch 2400/10000 Cost: 0.221621\n",
      "Epoch 2500/10000 Cost: 0.216199\n",
      "Epoch 2600/10000 Cost: 0.211023\n",
      "Epoch 2700/10000 Cost: 0.206077\n",
      "Epoch 2800/10000 Cost: 0.201344\n",
      "Epoch 2900/10000 Cost: 0.196813\n",
      "Epoch 3000/10000 Cost: 0.192469\n",
      "Epoch 3100/10000 Cost: 0.188302\n",
      "Epoch 3200/10000 Cost: 0.184301\n",
      "Epoch 3300/10000 Cost: 0.180457\n",
      "Epoch 3400/10000 Cost: 0.176761\n",
      "Epoch 3500/10000 Cost: 0.173203\n",
      "Epoch 3600/10000 Cost: 0.169778\n",
      "Epoch 3700/10000 Cost: 0.166477\n",
      "Epoch 3800/10000 Cost: 0.163295\n",
      "Epoch 3900/10000 Cost: 0.160225\n",
      "Epoch 4000/10000 Cost: 0.157261\n",
      "Epoch 4100/10000 Cost: 0.154398\n",
      "Epoch 4200/10000 Cost: 0.151632\n",
      "Epoch 4300/10000 Cost: 0.148957\n",
      "Epoch 4400/10000 Cost: 0.146369\n",
      "Epoch 4500/10000 Cost: 0.143865\n",
      "Epoch 4600/10000 Cost: 0.141440\n",
      "Epoch 4700/10000 Cost: 0.139090\n",
      "Epoch 4800/10000 Cost: 0.136813\n",
      "Epoch 4900/10000 Cost: 0.134605\n",
      "Epoch 5000/10000 Cost: 0.132464\n",
      "Epoch 5100/10000 Cost: 0.130385\n",
      "Epoch 5200/10000 Cost: 0.128367\n",
      "Epoch 5300/10000 Cost: 0.126408\n",
      "Epoch 5400/10000 Cost: 0.124504\n",
      "Epoch 5500/10000 Cost: 0.122654\n",
      "Epoch 5600/10000 Cost: 0.120855\n",
      "Epoch 5700/10000 Cost: 0.119105\n",
      "Epoch 5800/10000 Cost: 0.117402\n",
      "Epoch 5900/10000 Cost: 0.115745\n",
      "Epoch 6000/10000 Cost: 0.114132\n",
      "Epoch 6100/10000 Cost: 0.112561\n",
      "Epoch 6200/10000 Cost: 0.111030\n",
      "Epoch 6300/10000 Cost: 0.109539\n",
      "Epoch 6400/10000 Cost: 0.108085\n",
      "Epoch 6500/10000 Cost: 0.106668\n",
      "Epoch 6600/10000 Cost: 0.105285\n",
      "Epoch 6700/10000 Cost: 0.103936\n",
      "Epoch 6800/10000 Cost: 0.102620\n",
      "Epoch 6900/10000 Cost: 0.101335\n",
      "Epoch 7000/10000 Cost: 0.100080\n",
      "Epoch 7100/10000 Cost: 0.098855\n",
      "Epoch 7200/10000 Cost: 0.097658\n",
      "Epoch 7300/10000 Cost: 0.096488\n",
      "Epoch 7400/10000 Cost: 0.095345\n",
      "Epoch 7500/10000 Cost: 0.094228\n",
      "Epoch 7600/10000 Cost: 0.093135\n",
      "Epoch 7700/10000 Cost: 0.092066\n",
      "Epoch 7800/10000 Cost: 0.091021\n",
      "Epoch 7900/10000 Cost: 0.089998\n",
      "Epoch 8000/10000 Cost: 0.088997\n",
      "Epoch 8100/10000 Cost: 0.088017\n",
      "Epoch 8200/10000 Cost: 0.087057\n",
      "Epoch 8300/10000 Cost: 0.086118\n",
      "Epoch 8400/10000 Cost: 0.085197\n",
      "Epoch 8500/10000 Cost: 0.084296\n",
      "Epoch 8600/10000 Cost: 0.083412\n",
      "Epoch 8700/10000 Cost: 0.082546\n",
      "Epoch 8800/10000 Cost: 0.081698\n",
      "Epoch 8900/10000 Cost: 0.080866\n",
      "Epoch 9000/10000 Cost: 0.080050\n",
      "Epoch 9100/10000 Cost: 0.079250\n",
      "Epoch 9200/10000 Cost: 0.078465\n",
      "Epoch 9300/10000 Cost: 0.077695\n",
      "Epoch 9400/10000 Cost: 0.076939\n",
      "Epoch 9500/10000 Cost: 0.076198\n",
      "Epoch 9600/10000 Cost: 0.075470\n",
      "Epoch 9700/10000 Cost: 0.074755\n",
      "Epoch 9800/10000 Cost: 0.074054\n",
      "Epoch 9900/10000 Cost: 0.073365\n",
      "Epoch 10000/10000 Cost: 0.072688\n"
     ]
    }
   ],
   "source": [
    "W = torch.zeros((4, 3), requires_grad=True)\n",
    "b = torch.zeros(1, requires_grad=True)\n",
    "# optimizer 설정\n",
    "optimizer = optim.SGD([W, b], lr=0.1)\n",
    "\n",
    "nb_epochs = 10000\n",
    "for epoch in range(1,nb_epochs + 1):\n",
    "\n",
    "    # Cost 계산\n",
    "    z = x_train.matmul(W) + b\n",
    "    cost = F.cross_entropy(z, y_train)\n",
    "\n",
    "    # cost로 H(x) 개선\n",
    "    optimizer.zero_grad()\n",
    "    cost.backward()\n",
    "    optimizer.step()\n",
    "\n",
    "    if epoch % 100 == 0:\n",
    "        print('Epoch {:4d}/{} Cost: {:.6f}'.format(\n",
    "            epoch, nb_epochs, cost.item()\n",
    "        ))"
   ]
  },
  {
   "cell_type": "markdown",
   "id": "0340c11e",
   "metadata": {},
   "source": [
    "### 3. 소프트맥스 회귀 nn.Module로 구현하기"
   ]
  },
  {
   "cell_type": "code",
   "execution_count": 51,
   "id": "1f850f10",
   "metadata": {
    "scrolled": true
   },
   "outputs": [
    {
     "name": "stdout",
     "output_type": "stream",
     "text": [
      "Epoch  100/10000 Cost: 0.714870\n",
      "Epoch  200/10000 Cost: 0.633744\n",
      "Epoch  300/10000 Cost: 0.576285\n",
      "Epoch  400/10000 Cost: 0.525854\n",
      "Epoch  500/10000 Cost: 0.478306\n",
      "Epoch  600/10000 Cost: 0.432054\n",
      "Epoch  700/10000 Cost: 0.386326\n",
      "Epoch  800/10000 Cost: 0.340779\n",
      "Epoch  900/10000 Cost: 0.295738\n",
      "Epoch 1000/10000 Cost: 0.255139\n",
      "Epoch 1100/10000 Cost: 0.235095\n",
      "Epoch 1200/10000 Cost: 0.223602\n",
      "Epoch 1300/10000 Cost: 0.213153\n",
      "Epoch 1400/10000 Cost: 0.203601\n",
      "Epoch 1500/10000 Cost: 0.194835\n",
      "Epoch 1600/10000 Cost: 0.186764\n",
      "Epoch 1700/10000 Cost: 0.179310\n",
      "Epoch 1800/10000 Cost: 0.172404\n",
      "Epoch 1900/10000 Cost: 0.165991\n",
      "Epoch 2000/10000 Cost: 0.160021\n",
      "Epoch 2100/10000 Cost: 0.154450\n",
      "Epoch 2200/10000 Cost: 0.149240\n",
      "Epoch 2300/10000 Cost: 0.144358\n",
      "Epoch 2400/10000 Cost: 0.139774\n",
      "Epoch 2500/10000 Cost: 0.135464\n",
      "Epoch 2600/10000 Cost: 0.131403\n",
      "Epoch 2700/10000 Cost: 0.127570\n",
      "Epoch 2800/10000 Cost: 0.123949\n",
      "Epoch 2900/10000 Cost: 0.120521\n",
      "Epoch 3000/10000 Cost: 0.117272\n",
      "Epoch 3100/10000 Cost: 0.114189\n",
      "Epoch 3200/10000 Cost: 0.111259\n",
      "Epoch 3300/10000 Cost: 0.108472\n",
      "Epoch 3400/10000 Cost: 0.105818\n",
      "Epoch 3500/10000 Cost: 0.103287\n",
      "Epoch 3600/10000 Cost: 0.100871\n",
      "Epoch 3700/10000 Cost: 0.098563\n",
      "Epoch 3800/10000 Cost: 0.096355\n",
      "Epoch 3900/10000 Cost: 0.094242\n",
      "Epoch 4000/10000 Cost: 0.092218\n",
      "Epoch 4100/10000 Cost: 0.090276\n",
      "Epoch 4200/10000 Cost: 0.088413\n",
      "Epoch 4300/10000 Cost: 0.086624\n",
      "Epoch 4400/10000 Cost: 0.084904\n",
      "Epoch 4500/10000 Cost: 0.083249\n",
      "Epoch 4600/10000 Cost: 0.081657\n",
      "Epoch 4700/10000 Cost: 0.080123\n",
      "Epoch 4800/10000 Cost: 0.078644\n",
      "Epoch 4900/10000 Cost: 0.077218\n",
      "Epoch 5000/10000 Cost: 0.075841\n",
      "Epoch 5100/10000 Cost: 0.074512\n",
      "Epoch 5200/10000 Cost: 0.073228\n",
      "Epoch 5300/10000 Cost: 0.071987\n",
      "Epoch 5400/10000 Cost: 0.070786\n",
      "Epoch 5500/10000 Cost: 0.069623\n",
      "Epoch 5600/10000 Cost: 0.068498\n",
      "Epoch 5700/10000 Cost: 0.067408\n",
      "Epoch 5800/10000 Cost: 0.066351\n",
      "Epoch 5900/10000 Cost: 0.065327\n",
      "Epoch 6000/10000 Cost: 0.064333\n",
      "Epoch 6100/10000 Cost: 0.063368\n",
      "Epoch 6200/10000 Cost: 0.062431\n",
      "Epoch 6300/10000 Cost: 0.061522\n",
      "Epoch 6400/10000 Cost: 0.060638\n",
      "Epoch 6500/10000 Cost: 0.059778\n",
      "Epoch 6600/10000 Cost: 0.058942\n",
      "Epoch 6700/10000 Cost: 0.058129\n",
      "Epoch 6800/10000 Cost: 0.057338\n",
      "Epoch 6900/10000 Cost: 0.056567\n",
      "Epoch 7000/10000 Cost: 0.055817\n",
      "Epoch 7100/10000 Cost: 0.055086\n",
      "Epoch 7200/10000 Cost: 0.054374\n",
      "Epoch 7300/10000 Cost: 0.053679\n",
      "Epoch 7400/10000 Cost: 0.053002\n",
      "Epoch 7500/10000 Cost: 0.052342\n",
      "Epoch 7600/10000 Cost: 0.051697\n",
      "Epoch 7700/10000 Cost: 0.051068\n",
      "Epoch 7800/10000 Cost: 0.050454\n",
      "Epoch 7900/10000 Cost: 0.049854\n",
      "Epoch 8000/10000 Cost: 0.049268\n",
      "Epoch 8100/10000 Cost: 0.048696\n",
      "Epoch 8200/10000 Cost: 0.048136\n",
      "Epoch 8300/10000 Cost: 0.047590\n",
      "Epoch 8400/10000 Cost: 0.047055\n",
      "Epoch 8500/10000 Cost: 0.046532\n",
      "Epoch 8600/10000 Cost: 0.046020\n",
      "Epoch 8700/10000 Cost: 0.045519\n",
      "Epoch 8800/10000 Cost: 0.045029\n",
      "Epoch 8900/10000 Cost: 0.044550\n",
      "Epoch 9000/10000 Cost: 0.044080\n",
      "Epoch 9100/10000 Cost: 0.043620\n",
      "Epoch 9200/10000 Cost: 0.043169\n",
      "Epoch 9300/10000 Cost: 0.042728\n",
      "Epoch 9400/10000 Cost: 0.042295\n",
      "Epoch 9500/10000 Cost: 0.041871\n",
      "Epoch 9600/10000 Cost: 0.041455\n",
      "Epoch 9700/10000 Cost: 0.041047\n",
      "Epoch 9800/10000 Cost: 0.040647\n",
      "Epoch 9900/10000 Cost: 0.040255\n",
      "Epoch 10000/10000 Cost: 0.039870\n"
     ]
    }
   ],
   "source": [
    "model = nn.Linear(4, 3)\n",
    "# optimizer 설정\n",
    "optimizer = optim.SGD(model.parameters(), lr=0.1)\n",
    "\n",
    "nb_epochs = 10000\n",
    "for epoch in range(1,nb_epochs + 1):\n",
    "\n",
    "    # H(x) 계산\n",
    "    prediction = model(x_train)\n",
    "\n",
    "    # cost 계산\n",
    "    cost = F.cross_entropy(prediction, y_train)\n",
    "\n",
    "    # cost로 H(x) 개선\n",
    "    optimizer.zero_grad()\n",
    "    cost.backward()\n",
    "    optimizer.step()\n",
    "\n",
    "    if epoch % 100 == 0:\n",
    "        print('Epoch {:4d}/{} Cost: {:.6f}'.format(\n",
    "            epoch, nb_epochs, cost.item()\n",
    "        ))"
   ]
  },
  {
   "cell_type": "markdown",
   "id": "6b3a560a",
   "metadata": {},
   "source": [
    "### 4. 소프트맥스 회귀 클래스로 구현하기"
   ]
  },
  {
   "cell_type": "code",
   "execution_count": 52,
   "id": "1a93b4b4",
   "metadata": {
    "scrolled": true
   },
   "outputs": [
    {
     "name": "stdout",
     "output_type": "stream",
     "text": [
      "Epoch  100/10000 Cost: 0.708336\n",
      "Epoch  200/10000 Cost: 0.626136\n",
      "Epoch  300/10000 Cost: 0.569849\n",
      "Epoch  400/10000 Cost: 0.520366\n",
      "Epoch  500/10000 Cost: 0.473517\n",
      "Epoch  600/10000 Cost: 0.427770\n",
      "Epoch  700/10000 Cost: 0.382397\n",
      "Epoch  800/10000 Cost: 0.337085\n",
      "Epoch  900/10000 Cost: 0.292189\n",
      "Epoch 1000/10000 Cost: 0.251781\n",
      "Epoch 1100/10000 Cost: 0.232221\n",
      "Epoch 1200/10000 Cost: 0.220973\n",
      "Epoch 1300/10000 Cost: 0.210735\n",
      "Epoch 1400/10000 Cost: 0.201368\n",
      "Epoch 1500/10000 Cost: 0.192767\n",
      "Epoch 1600/10000 Cost: 0.184843\n",
      "Epoch 1700/10000 Cost: 0.177520\n",
      "Epoch 1800/10000 Cost: 0.170733\n",
      "Epoch 1900/10000 Cost: 0.164427\n",
      "Epoch 2000/10000 Cost: 0.158554\n",
      "Epoch 2100/10000 Cost: 0.153071\n",
      "Epoch 2200/10000 Cost: 0.147941\n",
      "Epoch 2300/10000 Cost: 0.143133\n",
      "Epoch 2400/10000 Cost: 0.138618\n",
      "Epoch 2500/10000 Cost: 0.134370\n",
      "Epoch 2600/10000 Cost: 0.130366\n",
      "Epoch 2700/10000 Cost: 0.126587\n",
      "Epoch 2800/10000 Cost: 0.123014\n",
      "Epoch 2900/10000 Cost: 0.119632\n",
      "Epoch 3000/10000 Cost: 0.116426\n",
      "Epoch 3100/10000 Cost: 0.113382\n",
      "Epoch 3200/10000 Cost: 0.110489\n",
      "Epoch 3300/10000 Cost: 0.107736\n",
      "Epoch 3400/10000 Cost: 0.105114\n",
      "Epoch 3500/10000 Cost: 0.102613\n",
      "Epoch 3600/10000 Cost: 0.100225\n",
      "Epoch 3700/10000 Cost: 0.097943\n",
      "Epoch 3800/10000 Cost: 0.095760\n",
      "Epoch 3900/10000 Cost: 0.093671\n",
      "Epoch 4000/10000 Cost: 0.091668\n",
      "Epoch 4100/10000 Cost: 0.089748\n",
      "Epoch 4200/10000 Cost: 0.087904\n",
      "Epoch 4300/10000 Cost: 0.086133\n",
      "Epoch 4400/10000 Cost: 0.084430\n",
      "Epoch 4500/10000 Cost: 0.082792\n",
      "Epoch 4600/10000 Cost: 0.081216\n",
      "Epoch 4700/10000 Cost: 0.079696\n",
      "Epoch 4800/10000 Cost: 0.078232\n",
      "Epoch 4900/10000 Cost: 0.076819\n",
      "Epoch 5000/10000 Cost: 0.075456\n",
      "Epoch 5100/10000 Cost: 0.074139\n",
      "Epoch 5200/10000 Cost: 0.072866\n",
      "Epoch 5300/10000 Cost: 0.071636\n",
      "Epoch 5400/10000 Cost: 0.070445\n",
      "Epoch 5500/10000 Cost: 0.069293\n",
      "Epoch 5600/10000 Cost: 0.068178\n",
      "Epoch 5700/10000 Cost: 0.067097\n",
      "Epoch 5800/10000 Cost: 0.066049\n",
      "Epoch 5900/10000 Cost: 0.065033\n",
      "Epoch 6000/10000 Cost: 0.064047\n",
      "Epoch 6100/10000 Cost: 0.063090\n",
      "Epoch 6200/10000 Cost: 0.062161\n",
      "Epoch 6300/10000 Cost: 0.061258\n",
      "Epoch 6400/10000 Cost: 0.060381\n",
      "Epoch 6500/10000 Cost: 0.059528\n",
      "Epoch 6600/10000 Cost: 0.058698\n",
      "Epoch 6700/10000 Cost: 0.057891\n",
      "Epoch 6800/10000 Cost: 0.057106\n",
      "Epoch 6900/10000 Cost: 0.056341\n",
      "Epoch 7000/10000 Cost: 0.055596\n",
      "Epoch 7100/10000 Cost: 0.054870\n",
      "Epoch 7200/10000 Cost: 0.054163\n",
      "Epoch 7300/10000 Cost: 0.053473\n",
      "Epoch 7400/10000 Cost: 0.052801\n",
      "Epoch 7500/10000 Cost: 0.052145\n",
      "Epoch 7600/10000 Cost: 0.051505\n",
      "Epoch 7700/10000 Cost: 0.050880\n",
      "Epoch 7800/10000 Cost: 0.050270\n",
      "Epoch 7900/10000 Cost: 0.049674\n",
      "Epoch 8000/10000 Cost: 0.049092\n",
      "Epoch 8100/10000 Cost: 0.048524\n",
      "Epoch 8200/10000 Cost: 0.047968\n",
      "Epoch 8300/10000 Cost: 0.047424\n",
      "Epoch 8400/10000 Cost: 0.046893\n",
      "Epoch 8500/10000 Cost: 0.046373\n",
      "Epoch 8600/10000 Cost: 0.045865\n",
      "Epoch 8700/10000 Cost: 0.045367\n",
      "Epoch 8800/10000 Cost: 0.044880\n",
      "Epoch 8900/10000 Cost: 0.044403\n",
      "Epoch 9000/10000 Cost: 0.043936\n",
      "Epoch 9100/10000 Cost: 0.043479\n",
      "Epoch 9200/10000 Cost: 0.043031\n",
      "Epoch 9300/10000 Cost: 0.042592\n",
      "Epoch 9400/10000 Cost: 0.042162\n",
      "Epoch 9500/10000 Cost: 0.041740\n",
      "Epoch 9600/10000 Cost: 0.041326\n",
      "Epoch 9700/10000 Cost: 0.040921\n",
      "Epoch 9800/10000 Cost: 0.040523\n",
      "Epoch 9900/10000 Cost: 0.040133\n",
      "Epoch 10000/10000 Cost: 0.039751\n"
     ]
    }
   ],
   "source": [
    "class SoftmaxClassifierModel(nn.Module):\n",
    "    def __init__(self):\n",
    "        super().__init__()\n",
    "        self.linear = nn.Linear(4, 3) # Output이 3!\n",
    "\n",
    "    def forward(self, x):\n",
    "        return self.linear(x)\n",
    "model = SoftmaxClassifierModel()\n",
    "# optimizer 설정\n",
    "optimizer = optim.SGD(model.parameters(), lr=0.1)\n",
    "\n",
    "nb_epochs = 10000\n",
    "for epoch in range(1,nb_epochs + 1):\n",
    "\n",
    "    # H(x) 계산\n",
    "    prediction = model(x_train)\n",
    "\n",
    "    # cost 계산\n",
    "    cost = F.cross_entropy(prediction, y_train)\n",
    "\n",
    "    # cost로 H(x) 개선\n",
    "    optimizer.zero_grad()\n",
    "    cost.backward()\n",
    "    optimizer.step()\n",
    "\n",
    "    if epoch % 100 == 0:\n",
    "        print('Epoch {:4d}/{} Cost: {:.6f}'.format(\n",
    "            epoch, nb_epochs, cost.item()\n",
    "        ))"
   ]
  },
  {
   "cell_type": "markdown",
   "id": "9b60cfa4",
   "metadata": {},
   "source": [
    "## 5. 소프트맥스 회귀로 MNIST 데이터 분류하기\n",
    "torchvision : 유명한 데이터셋들 , 이미 구현되어져 있는 유명한 모델들, 일반적인 이미지 전처리 도구들 포함한 패키지"
   ]
  },
  {
   "cell_type": "code",
   "execution_count": 53,
   "id": "f348586e",
   "metadata": {},
   "outputs": [
    {
     "name": "stdout",
     "output_type": "stream",
     "text": [
      "Epoch: 0001 cost = 0.535150588\n",
      "Epoch: 0002 cost = 0.359577775\n",
      "Epoch: 0003 cost = 0.331264257\n",
      "Epoch: 0004 cost = 0.316404700\n",
      "Epoch: 0005 cost = 0.307106972\n",
      "Epoch: 0006 cost = 0.300456554\n",
      "Epoch: 0007 cost = 0.294933408\n",
      "Epoch: 0008 cost = 0.290956199\n",
      "Epoch: 0009 cost = 0.287074089\n",
      "Epoch: 0010 cost = 0.284515619\n",
      "Epoch: 0011 cost = 0.281914085\n",
      "Epoch: 0012 cost = 0.279526860\n",
      "Epoch: 0013 cost = 0.277636588\n",
      "Epoch: 0014 cost = 0.275874794\n",
      "Epoch: 0015 cost = 0.274422765\n",
      "learning finish\n"
     ]
    }
   ],
   "source": [
    "import torch\n",
    "import torchvision.datasets as dsets\n",
    "import torchvision.transforms as transforms\n",
    "from torch.utils.data import DataLoader\n",
    "import torch.nn as nn\n",
    "import matplotlib.pyplot as plt\n",
    "import random\n",
    "\n",
    "USE_CUDA = torch.cuda.is_available()\n",
    "device = torch.device(\"cuda\" if USE_CUDA else \"cpu\") ## GPU 사용\n",
    "\n",
    "random.seed(777)\n",
    "torch.manual_seed(777)\n",
    "if device == 'cuda':\n",
    "    torch.cuda.manual_seed_all(777)\n",
    "\n",
    "# 하이퍼 파라미터 설정\n",
    "training_epochs = 15\n",
    "batch_size = 100\n",
    "\n",
    "mnist_train = dsets.MNIST(root='MNIST_data/',train=True,transform=transforms.ToTensor(),download=True)\n",
    "mnist_test = dsets.MNIST(root='MNIST_data/',train=False,transform=transforms.ToTensor(),download=True)\n",
    "\n",
    "# dataset loader\n",
    "data_loader = DataLoader(dataset=mnist_train,batch_size=batch_size,shuffle=True,drop_last=True)\n",
    "linear = nn.Linear(784,10,bias=True).to(device)\n",
    "\n",
    "# 비용 함수와 옵티마이저 정의\n",
    "criterion = nn.CrossEntropyLoss().to(device) # 소프트맥스함수 포함\n",
    "optimizer = torch.optim.SGD(linear.parameters(),lr=0.1)\n",
    "\n",
    "for epoch in range(training_epochs):\n",
    "    avg_cost = 0\n",
    "    total_batch = len(data_loader)\n",
    "    \n",
    "    for X,Y in data_loader:\n",
    "        # 배치 크기 100\n",
    "        X= X.view(-1,28*28).to(device)\n",
    "        Y= Y.to(device)\n",
    "        \n",
    "        optimizer.zero_grad()\n",
    "        hypothesis = linear(X)\n",
    "        cost = criterion(hypothesis,Y)\n",
    "        cost.backward()\n",
    "        optimizer.step()\n",
    "        \n",
    "        avg_cost += cost / total_batch\n",
    "    \n",
    "    print('Epoch:', '%04d' % (epoch + 1), 'cost =', '{:.9f}'.format(avg_cost))\n",
    "print('learning finish')\n"
   ]
  },
  {
   "cell_type": "code",
   "execution_count": 76,
   "id": "a0244afc",
   "metadata": {
    "scrolled": false
   },
   "outputs": [
    {
     "name": "stdout",
     "output_type": "stream",
     "text": [
      "Accuracy: 0.8883000016212463\n",
      "Label:  9\n",
      "Prediction:  9\n"
     ]
    },
    {
     "data": {
      "image/png": "[encoded data removed]",
      "text/plain": [
       "<Figure size 432x288 with 1 Axes>"
      ]
     },
     "metadata": {
      "needs_background": "light"
     },
     "output_type": "display_data"
    },
    {
     "name": "stdout",
     "output_type": "stream",
     "text": [
      "Label:  9\n",
      "Prediction:  9\n"
     ]
    },
    {
     "data": {
      "image/png": "[encoded data removed]",
      "text/plain": [
       "<Figure size 432x288 with 1 Axes>"
      ]
     },
     "metadata": {
      "needs_background": "light"
     },
     "output_type": "display_data"
    },
    {
     "name": "stdout",
     "output_type": "stream",
     "text": [
      "Label:  5\n",
      "Prediction:  8\n"
     ]
    },
    {
     "data": {
      "image/png": "[encoded data removed]",
      "text/plain": [
       "<Figure size 432x288 with 1 Axes>"
      ]
     },
     "metadata": {
      "needs_background": "light"
     },
     "output_type": "display_data"
    },
    {
     "name": "stdout",
     "output_type": "stream",
     "text": [
      "Label:  3\n",
      "Prediction:  3\n"
     ]
    },
    {
     "data": {
      "image/png": "[encoded data removed]",
      "text/plain": [
       "<Figure size 432x288 with 1 Axes>"
      ]
     },
     "metadata": {
      "needs_background": "light"
     },
     "output_type": "display_data"
    },
    {
     "name": "stdout",
     "output_type": "stream",
     "text": [
      "Label:  7\n",
      "Prediction:  7\n"
     ]
    },
    {
     "data": {
      "image/png": "[encoded data removed]",
      "text/plain": [
       "<Figure size 432x288 with 1 Axes>"
      ]
     },
     "metadata": {
      "needs_background": "light"
     },
     "output_type": "display_data"
    },
    {
     "name": "stdout",
     "output_type": "stream",
     "text": [
      "Label:  9\n",
      "Prediction:  9\n"
     ]
    },
    {
     "data": {
      "image/png": "[encoded data removed]",
      "text/plain": [
       "<Figure size 432x288 with 1 Axes>"
      ]
     },
     "metadata": {
      "needs_background": "light"
     },
     "output_type": "display_data"
    },
    {
     "name": "stdout",
     "output_type": "stream",
     "text": [
      "Label:  0\n",
      "Prediction:  0\n"
     ]
    },
    {
     "data": {
      "image/png": "[encoded data removed]",
      "text/plain": [
       "<Figure size 432x288 with 1 Axes>"
      ]
     },
     "metadata": {
      "needs_background": "light"
     },
     "output_type": "display_data"
    },
    {
     "name": "stdout",
     "output_type": "stream",
     "text": [
      "Label:  5\n",
      "Prediction:  8\n"
     ]
    },
    {
     "data": {
      "image/png": "[encoded data removed]",
      "text/plain": [
       "<Figure size 432x288 with 1 Axes>"
      ]
     },
     "metadata": {
      "needs_background": "light"
     },
     "output_type": "display_data"
    },
    {
     "name": "stdout",
     "output_type": "stream",
     "text": [
      "Label:  4\n",
      "Prediction:  4\n"
     ]
    },
    {
     "data": {
      "image/png": "[encoded data removed]",
      "text/plain": [
       "<Figure size 432x288 with 1 Axes>"
      ]
     },
     "metadata": {
      "needs_background": "light"
     },
     "output_type": "display_data"
    },
    {
     "name": "stdout",
     "output_type": "stream",
     "text": [
      "Label:  4\n",
      "Prediction:  6\n"
     ]
    },
    {
     "data": {
      "image/png": "[encoded data removed]",
      "text/plain": [
       "<Figure size 432x288 with 1 Axes>"
      ]
     },
     "metadata": {
      "needs_background": "light"
     },
     "output_type": "display_data"
    }
   ],
   "source": [
    "with torch.no_grad(): #  requires_grad=False 상태로 만들어주어 gradient 계산을 안해준다.\n",
    "    X_test = mnist_test.data.view(-1,28*28).float().to(device)\n",
    "    Y_test = mnist_test.targets.to(device)\n",
    "    \n",
    "    prediction = linear(X_test)\n",
    "    correct_prediction = torch.argmax(prediction,dim=1) == Y_test ## True,False 값으로 나타남\n",
    "    accuracy = correct_prediction.float().mean()\n",
    "    print('Accuracy:',accuracy.item())\n",
    "    \n",
    "    #무작위 테스트\n",
    "    for i in range(10):\n",
    "        r = random.randint(0,len(mnist_test)-1)\n",
    "        X_single_data = mnist_test.data[r:r+1].view(-1,28*28).float().to(device)\n",
    "        Y_single_data = mnist_test.targets[r:r+1].to(device)\n",
    "\n",
    "        print('Label: ',Y_single_data.item())\n",
    "        single_prediction = linear(X_single_data)\n",
    "        print('Prediction: ',torch.argmax(single_prediction,dim=1).item())\n",
    "\n",
    "        plt.imshow(mnist_test.data[r:r + 1].view(28, 28), cmap='Greys', interpolation='nearest')\n",
    "        plt.show()"
   ]
  },
  {
   "cell_type": "markdown",
   "id": "ecf11506",
   "metadata": {},
   "source": [
    "torchsummary 사용해보기!"
   ]
  },
  {
   "cell_type": "code",
   "execution_count": 72,
   "id": "2b292a73",
   "metadata": {},
   "outputs": [
    {
     "name": "stdout",
     "output_type": "stream",
     "text": [
      "CNN(\n",
      "  (conv1): Conv2d(1, 10, kernel_size=(5, 5), stride=(1, 1))\n",
      "  (conv2): Conv2d(10, 20, kernel_size=(5, 5), stride=(1, 1))\n",
      "  (conv2_drop): Dropout2d(p=0.3, inplace=False)\n",
      "  (fc1): Linear(in_features=320, out_features=50, bias=True)\n",
      "  (fc2): Linear(in_features=50, out_features=10, bias=True)\n",
      ")\n",
      "----------------------------------------------------------------\n",
      "        Layer (type)               Output Shape         Param #\n",
      "================================================================\n",
      "            Conv2d-1           [-1, 10, 24, 24]             260\n",
      "            Conv2d-2             [-1, 20, 8, 8]           5,020\n",
      "         Dropout2d-3             [-1, 20, 8, 8]               0\n",
      "            Linear-4                   [-1, 50]          16,050\n",
      "            Linear-5                   [-1, 10]             510\n",
      "================================================================\n",
      "Total params: 21,840\n",
      "Trainable params: 21,840\n",
      "Non-trainable params: 0\n",
      "----------------------------------------------------------------\n",
      "Input size (MB): 0.00\n",
      "Forward/backward pass size (MB): 0.06\n",
      "Params size (MB): 0.08\n",
      "Estimated Total Size (MB): 0.15\n",
      "----------------------------------------------------------------\n"
     ]
    }
   ],
   "source": [
    "import torchsummary\n",
    "#linear = nn.Conv1d(1,10,kernel_size=5)\n",
    "class CNN(nn.Module):\n",
    "    def __init__(self):\n",
    "        super().__init__()\n",
    "        self.conv1 = nn.Conv2d(1, 10, kernel_size=5)\n",
    "        self.conv2 = nn.Conv2d(10, 20, kernel_size=5)\n",
    "        self.conv2_drop = nn.Dropout2d(0.3)\n",
    "        self.fc1 = nn.Linear(320, 50)\n",
    "        self.fc2 = nn.Linear(50, 10)\n",
    "\n",
    "    def forward(self, x):\n",
    "        x = F.relu(F.max_pool2d(self.conv1(x), 2))\n",
    "        x = F.relu(F.max_pool2d(self.conv2_drop(self.conv2(x)), 2))\n",
    "        x = x.view(-1, 320)\n",
    "        x = F.relu(self.fc1(x))\n",
    "        x = self.fc2(x)\n",
    "        return F.log_softmax(x, dim=1)\n",
    "\n",
    "model = CNN().to(device)\n",
    "print(model)\n",
    "torchsummary.summary(model,input_size=(1,28,28))"
   ]
  },
  {
   "cell_type": "code",
   "execution_count": null,
   "id": "66036e2d",
   "metadata": {},
   "outputs": [],
   "source": []
  }
 ],
 "metadata": {
  "kernelspec": {
   "display_name": "Python 3 (ipykernel)",
   "language": "python",
   "name": "python3"
  },
  "language_info": {
   "codemirror_mode": {
    "name": "ipython",
    "version": 3
   },
   "file_extension": ".py",
   "mimetype": "text/x-python",
   "name": "python",
   "nbconvert_exporter": "python",
   "pygments_lexer": "ipython3",
   "version": "3.7.11"
  }
 },
 "nbformat": 4,
 "nbformat_minor": 5
}
