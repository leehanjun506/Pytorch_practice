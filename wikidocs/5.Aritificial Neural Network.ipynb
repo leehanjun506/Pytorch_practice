{
 "cells": [
  {
   "cell_type": "markdown",
   "id": "a182a282",
   "metadata": {},
   "source": [
    "# 인공 신경망(Aritificial Neural Network)\n",
    "---\n",
    "## 1. 퍼셉트론(Perceptron)\n",
    "### 1. 퍼셉트론\n",
    "### 2. 단층 퍼셉트론\n",
    "### 3. 다층 퍼셉트론\n",
    "퍼셉트론은 활성화함수로 계단함수사용 -> 계단함수는 비선형 함수 -> 선형함수를 활성화함수로 쓰인다면 단층 신경망으로 표현가능.신경망의 층 깊게하는 의미 없어짐(복잡한 표현 가능x)\n",
    "## 2. XOR 문제\n",
    "### 1. 파이토치로 단층 퍼셉트론 구현하기"
   ]
  },
  {
   "cell_type": "code",
   "execution_count": null,
   "id": "9a46b497",
   "metadata": {},
   "outputs": [],
   "source": []
  }
 ],
 "metadata": {
  "kernelspec": {
   "display_name": "Python 3 (ipykernel)",
   "language": "python",
   "name": "python3"
  },
  "language_info": {
   "codemirror_mode": {
    "name": "ipython",
    "version": 3
   },
   "file_extension": ".py",
   "mimetype": "text/x-python",
   "name": "python",
   "nbconvert_exporter": "python",
   "pygments_lexer": "ipython3",
   "version": "3.7.11"
  }
 },
 "nbformat": 4,
 "nbformat_minor": 5
}
