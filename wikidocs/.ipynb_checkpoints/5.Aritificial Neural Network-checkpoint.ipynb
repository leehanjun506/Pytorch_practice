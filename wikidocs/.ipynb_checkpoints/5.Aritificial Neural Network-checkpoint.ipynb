{
 "cells": [
  {
   "attachments": {
    "image.png": {
     "image/png": "[encoded data removed]"
    }
   },
   "cell_type": "markdown",
   "id": "a182a282",
   "metadata": {},
   "source": [
    "# 인공 신경망(Aritificial Neural Network)\n",
    "---\n",
    "## 1. 퍼셉트론(Perceptron)\n",
    "퍼셉트론은 활성화함수로 계단함수사용 -> 계단함수는 비선형 함수 -> 선형함수를 활성화함수로 쓰인다면 단층 신경망으로 표현가능.신경망의 층 깊게하는 의미 없어짐(복잡한 표현 가능x)\n",
    "## 2. XOR 문제\n",
    "![image.png](attachment:image.png)\n",
    "### 1. 파이토치로 단층 퍼셉트론 구현하기"
   ]
  },
  {
   "cell_type": "code",
   "execution_count": 5,
   "id": "9a46b497",
   "metadata": {},
   "outputs": [
    {
     "name": "stdout",
     "output_type": "stream",
     "text": [
      "step:0 cost:0.7273974418640137\n",
      "step:100 cost:0.6931475400924683\n",
      "step:200 cost:0.6931471824645996\n",
      "step:300 cost:0.6931471824645996\n",
      "step:400 cost:0.6931471824645996\n",
      "step:500 cost:0.6931471824645996\n",
      "step:600 cost:0.6931471824645996\n",
      "step:700 cost:0.6931471824645996\n",
      "step:800 cost:0.6931471824645996\n",
      "step:900 cost:0.6931471824645996\n",
      "step:1000 cost:0.6931471824645996\n"
     ]
    }
   ],
   "source": [
    "import torch\n",
    "import torch.nn as nn\n",
    "device = 'cuda' if torch.cuda.is_available() else 'cpu'\n",
    "torch.manual_seed(777)\n",
    "if device == 'cuda':\n",
    "    torch.cuda.manual_seed_all(777)\n",
    "    \n",
    "X = torch.FloatTensor([[0, 0], [0, 1], [1, 0], [1, 1]]).to(device)\n",
    "Y = torch.FloatTensor([[0], [1], [1], [0]]).to(device)\n",
    "\n",
    "linear = nn.Linear(2,1,bias=True)\n",
    "sigmoid = nn.Sigmoid()\n",
    "model = nn.Sequential(linear,sigmoid).to(device)\n",
    "\n",
    "criterion = torch.nn.BCELoss().to(device) #이진 분류에서 사용하는 크로스엔트로피 함수\n",
    "optimizer = torch.optim.SGD(model.parameters(),lr=1)\n",
    "\n",
    "for step in range(1001):\n",
    "    optimizer.zero_grad() #pytorch에서는 gradients값들을 추후에 backward를 해줄때 계속 더해주기 때문\n",
    "    hypothesis = model(X)\n",
    "    \n",
    "    cost = criterion(hypothesis,Y)\n",
    "    cost.backward()\n",
    "    optimizer.step()\n",
    "    \n",
    "    if step % 100 == 0:\n",
    "        print('step:{} cost:{}'.format(step,cost.item()))\n"
   ]
  },
  {
   "cell_type": "markdown",
   "id": "7a3e21a9",
   "metadata": {},
   "source": [
    "### 2. 학습된 단층 퍼셉트론의 예측값 확인하기"
   ]
  },
  {
   "cell_type": "code",
   "execution_count": 14,
   "id": "fe695706",
   "metadata": {},
   "outputs": [
    {
     "name": "stdout",
     "output_type": "stream",
     "text": [
      "모델의 출력값(Hypothesis):\n",
      " [[0.5]\n",
      " [0.5]\n",
      " [0.5]\n",
      " [0.5]]\n",
      "모델의 예측값(Predicted):\n",
      "  [[0.]\n",
      " [0.]\n",
      " [0.]\n",
      " [0.]]\n",
      "실제값(Y):\n",
      " [[0.]\n",
      " [1.]\n",
      " [1.]\n",
      " [0.]]\n",
      "정확도(Accuracy):  0.5\n"
     ]
    }
   ],
   "source": [
    "with torch.no_grad(): #  autograd x\n",
    "    hypothesis = model(X)\n",
    "    predicted = (hypothesis > 0.5).float()\n",
    "    accuracy = (predicted == Y).float().mean()\n",
    "    print('모델의 출력값(Hypothesis):\\n', hypothesis.detach().cpu().numpy())\n",
    "    print('모델의 예측값(Predicted):\\n ', predicted.detach().cpu().numpy())\n",
    "    print('실제값(Y):\\n', Y.cpu().numpy())\n",
    "    print('정확도(Accuracy): ', accuracy.item())"
   ]
  },
  {
   "cell_type": "markdown",
   "id": "fa8e9328",
   "metadata": {},
   "source": [
    "### 3. 파이토치로 다층 퍼셉트론 구현하기"
   ]
  },
  {
   "cell_type": "code",
   "execution_count": 17,
   "id": "aeb122fe",
   "metadata": {},
   "outputs": [
    {
     "name": "stdout",
     "output_type": "stream",
     "text": [
      "epoch:0,cost:0.705255389213562\n",
      "epoch:100,cost:0.6931418180465698\n",
      "epoch:200,cost:0.6931371688842773\n",
      "epoch:300,cost:0.6931324005126953\n",
      "epoch:400,cost:0.6931275129318237\n",
      "epoch:500,cost:0.6931223273277283\n",
      "epoch:600,cost:0.6931167840957642\n",
      "epoch:700,cost:0.6931108236312866\n",
      "epoch:800,cost:0.6931042671203613\n",
      "epoch:900,cost:0.6930971145629883\n",
      "epoch:1000,cost:0.6930890083312988\n",
      "epoch:1100,cost:0.693079948425293\n",
      "epoch:1200,cost:0.6930696964263916\n",
      "epoch:1300,cost:0.6930577754974365\n",
      "epoch:1400,cost:0.6930438280105591\n",
      "epoch:1500,cost:0.6930274367332458\n",
      "epoch:1600,cost:0.6930077075958252\n",
      "epoch:1700,cost:0.6929837465286255\n",
      "epoch:1800,cost:0.6929539442062378\n",
      "epoch:1900,cost:0.6929163932800293\n",
      "epoch:2000,cost:0.6928679943084717\n",
      "epoch:2100,cost:0.692803680896759\n",
      "epoch:2200,cost:0.6927158832550049\n",
      "epoch:2300,cost:0.69259113073349\n",
      "epoch:2400,cost:0.6924046277999878\n",
      "epoch:2500,cost:0.6921080350875854\n",
      "epoch:2600,cost:0.6915925145149231\n",
      "epoch:2700,cost:0.6905767917633057\n",
      "epoch:2800,cost:0.6881387233734131\n",
      "epoch:2900,cost:0.6798856258392334\n",
      "epoch:3000,cost:0.6299811601638794\n",
      "epoch:3100,cost:0.4881938099861145\n",
      "epoch:3200,cost:0.02211347036063671\n",
      "epoch:3300,cost:0.007505381479859352\n",
      "epoch:3400,cost:0.00424937391653657\n",
      "epoch:3500,cost:0.002896679565310478\n",
      "epoch:3600,cost:0.0021720528602600098\n",
      "epoch:3700,cost:0.001725554815493524\n",
      "epoch:3800,cost:0.0014250262174755335\n",
      "epoch:3900,cost:0.001209826092235744\n",
      "epoch:4000,cost:0.0010487487306818366\n",
      "epoch:4100,cost:0.0009239128557965159\n",
      "epoch:4200,cost:0.0008245062199421227\n",
      "epoch:4300,cost:0.0007436014129780233\n",
      "epoch:4400,cost:0.0006765563157387078\n",
      "epoch:4500,cost:0.0006201472715474665\n",
      "epoch:4600,cost:0.0005720910849049687\n",
      "epoch:4700,cost:0.0005306570092216134\n",
      "epoch:4800,cost:0.0004945620894432068\n",
      "epoch:4900,cost:0.0004629112081602216\n",
      "epoch:5000,cost:0.0004348839574959129\n",
      "epoch:5100,cost:0.00040995830204337835\n",
      "epoch:5200,cost:0.0003876569389831275\n",
      "epoch:5300,cost:0.0003674877807497978\n",
      "epoch:5400,cost:0.00034931651316583157\n",
      "epoch:5500,cost:0.0003327107697259635\n",
      "epoch:5600,cost:0.00031761080026626587\n",
      "epoch:5700,cost:0.0003037780988961458\n",
      "epoch:5800,cost:0.00029103364795446396\n",
      "epoch:5900,cost:0.0002792880986817181\n",
      "epoch:6000,cost:0.0002684369683265686\n",
      "epoch:6100,cost:0.00025833118706941605\n",
      "epoch:6200,cost:0.00024894101079553366\n",
      "epoch:6300,cost:0.00024019181728363037\n",
      "epoch:6400,cost:0.00023199417046271265\n",
      "epoch:6500,cost:0.00022436298604588956\n",
      "epoch:6600,cost:0.00021717898198403418\n",
      "epoch:6700,cost:0.0002103825390804559\n",
      "epoch:6800,cost:0.00020401837537065148\n",
      "epoch:6900,cost:0.00019802687165793031\n",
      "epoch:7000,cost:0.00019236328080296516\n",
      "epoch:7100,cost:0.0001870127161964774\n",
      "epoch:7200,cost:0.00018191555864177644\n",
      "epoch:7300,cost:0.00017708668019622564\n",
      "epoch:7400,cost:0.00017251120880246162\n",
      "epoch:7500,cost:0.00016814438276924193\n",
      "epoch:7600,cost:0.00016398626030422747\n",
      "epoch:7700,cost:0.00016003678319975734\n",
      "epoch:7800,cost:0.0001562661782372743\n",
      "epoch:7900,cost:0.00015265951515175402\n",
      "epoch:8000,cost:0.00014917210501153022\n",
      "epoch:8100,cost:0.0001458784390706569\n",
      "epoch:8200,cost:0.00014270402607508004\n",
      "epoch:8300,cost:0.00013967863924335688\n",
      "epoch:8400,cost:0.00013677251990884542\n",
      "epoch:8500,cost:0.00013397069415077567\n",
      "epoch:8600,cost:0.00013125830446369946\n",
      "epoch:8700,cost:0.0001286651531700045\n",
      "epoch:8800,cost:0.00012616143794730306\n",
      "epoch:8900,cost:0.00012379184772726148\n",
      "epoch:9000,cost:0.00012146696826675907\n",
      "epoch:9100,cost:0.00011924641876248643\n",
      "epoch:9200,cost:0.00011708549573086202\n",
      "epoch:9300,cost:0.000114984177344013\n",
      "epoch:9400,cost:0.00011298718163743615\n",
      "epoch:9500,cost:0.00011104980512754992\n",
      "epoch:9600,cost:0.0001091720478143543\n",
      "epoch:9700,cost:0.00010735390242189169\n",
      "epoch:9800,cost:0.000105565573903732\n",
      "epoch:9900,cost:0.0001038666523527354\n",
      "epoch:10000,cost:0.00010222734999842942\n"
     ]
    }
   ],
   "source": [
    "X = torch.FloatTensor([[0, 0], [0, 1], [1, 0], [1, 1]]).to(device)\n",
    "Y = torch.FloatTensor([[0], [1], [1], [0]]).to(device)\n",
    "\n",
    "model = nn.Sequential(\n",
    "          nn.Linear(2, 10, bias=True), # input_layer = 2, hidden_layer1 = 10\n",
    "          nn.Sigmoid(),\n",
    "          nn.Linear(10, 10, bias=True), # hidden_layer1 = 10, hidden_layer2 = 10\n",
    "          nn.Sigmoid(),\n",
    "          nn.Linear(10, 10, bias=True), # hidden_layer2 = 10, hidden_layer3 = 10\n",
    "          nn.Sigmoid(),\n",
    "          nn.Linear(10, 1, bias=True), # hidden_layer3 = 10, output_layer = 1\n",
    "          nn.Sigmoid()\n",
    "          ).to(device)\n",
    "\n",
    "criterion = torch.nn.BCELoss().to(device)\n",
    "optimizer = torch.optim.SGD(model.parameters(),lr=1)\n",
    "\n",
    "for epoch in range(10001):\n",
    "    optimizer.zero_grad()\n",
    "    hypothesis = model(X)\n",
    "    \n",
    "    cost = criterion(hypothesis,Y)\n",
    "    cost.backward()\n",
    "    optimizer.step()\n",
    "    \n",
    "    if epoch%100 == 0:\n",
    "        print('epoch:{},cost:{}'.format(epoch,cost))"
   ]
  },
  {
   "cell_type": "markdown",
   "id": "1f9e35a6",
   "metadata": {},
   "source": [
    "### 4. 학습된 다층 퍼셉트론의 예측값 확인하기"
   ]
  },
  {
   "cell_type": "code",
   "execution_count": 18,
   "id": "6134660e",
   "metadata": {},
   "outputs": [
    {
     "name": "stdout",
     "output_type": "stream",
     "text": [
      "모델의 출력값(Hypothesis):\n",
      " [[7.5269883e-05]\n",
      " [9.9989927e-01]\n",
      " [9.9989188e-01]\n",
      " [1.2472055e-04]]\n",
      "모델의 예측값(Predicted):\n",
      " [[0.]\n",
      " [1.]\n",
      " [1.]\n",
      " [0.]]\n",
      "실제값(Y):\n",
      " [[0.]\n",
      " [1.]\n",
      " [1.]\n",
      " [0.]]\n",
      "정확도(Accuracy):  1.0\n"
     ]
    }
   ],
   "source": [
    "with torch.no_grad():\n",
    "    hypothesis = model(X)\n",
    "    predicted = (hypothesis > 0.5).float()\n",
    "    accuracy = (predicted == Y).float().mean()\n",
    "    print('모델의 출력값(Hypothesis):\\n', hypothesis.detach().cpu().numpy())\n",
    "    print('모델의 예측값(Predicted):\\n', predicted.detach().cpu().numpy())\n",
    "    print('실제값(Y):\\n', Y.cpu().numpy())\n",
    "    print('정확도(Accuracy): ', accuracy.item())"
   ]
  },
  {
   "cell_type": "markdown",
   "id": "1e728696",
   "metadata": {},
   "source": [
    "## 3. 비선형 활성화 함수(Activation function)\n",
    "### 1. 활성화 함수의 특징 - 비선형 함수(Nonlinear function)\n",
    "선형 함수로는 은닉층을 여러번 추가하더라도 1회 추가한 것과 차이를 줄 수 없다.\n",
    "### 2. 시그모이드 함수(Sigmoid function)와 기울기 소실\n",
    "시그모이드 함수의 문제점은 미분을 해서 기울기(gradient)를 구할 때 발생"
   ]
  },
  {
   "cell_type": "code",
   "execution_count": 20,
   "id": "eb5f69ff",
   "metadata": {},
   "outputs": [
    {
     "data": {
      "image/png": "[encoded data removed]",
      "text/plain": [
       "<Figure size 432x288 with 1 Axes>"
      ]
     },
     "metadata": {
      "needs_background": "light"
     },
     "output_type": "display_data"
    }
   ],
   "source": [
    "import numpy as np\n",
    "import matplotlib.pyplot as plt\n",
    "def sigmoid(x):\n",
    "    return 1/(1+np.exp(-x))\n",
    "x = np.arange(-5.0,5.0,0.1)\n",
    "y = sigmoid(x)\n",
    "\n",
    "plt.plot(x,y)\n",
    "plt.plot([0,0],[1.0,0.0],':')\n",
    "plt.title('Sigmoid function')\n",
    "plt.show()"
   ]
  },
  {
   "attachments": {},
   "cell_type": "markdown",
   "id": "d24c78b1",
   "metadata": {},
   "source": [
    "역전파 과정에서 0에 가까운 기울기가 곱해지게 되면, 앞단에 기울기가 잘 전달되지 않게 된다.</br>\n",
    "이러한 현상을 기울기 소실(Vanishing Gradient) 문제라고 한다. 즉, 가중치가 업데이트 되지 않아 학습이 되지 않는다는 뜻이다.  \n",
    "따라서 시그모이드 함수를 은닉층에서 사용하는 것은 지양된다.\n",
    "### 3. 하이퍼볼릭탄젠트 함수(Hyperbolic tangent function)\n",
    "하이퍼볼릭탄젠트 함수는 0을 중심으로 하여 시그모이드 함수보다 범위가 넓어 기울기 소실 증상이 적다."
   ]
  },
  {
   "cell_type": "code",
   "execution_count": 21,
   "id": "b9e1e301",
   "metadata": {},
   "outputs": [
    {
     "data": {
      "image/png": "[encoded data removed]",
      "text/plain": [
       "<Figure size 432x288 with 1 Axes>"
      ]
     },
     "metadata": {
      "needs_background": "light"
     },
     "output_type": "display_data"
    }
   ],
   "source": [
    "x = np.arange(-5.0, 5.0, 0.1)\n",
    "y = np.tanh(x)\n",
    "\n",
    "plt.plot(x, y)\n",
    "plt.plot([0,0],[1.0,-1.0], ':')\n",
    "plt.axhline(y=0, color='orange', linestyle='--')\n",
    "plt.title('Tanh Function')\n",
    "plt.show()"
   ]
  },
  {
   "cell_type": "markdown",
   "id": "9b7c1899",
   "metadata": {},
   "source": [
    "### 4. 렐루 함수(ReLU)\n",
    "렐루 함수는 특정 양수 값에 수렴하지 않으므로 깊은 신경망에서 시그모이드 함수보다 훨씬 더 잘 작동한다. 또한 다른 활성화 함수에 비해 연산 속도도 빠르다.  \n",
    "하지만 입력값이 음수일 때 기울기가 0이되는 문제점이 있다."
   ]
  },
  {
   "cell_type": "code",
   "execution_count": 22,
   "id": "8dae179d",
   "metadata": {},
   "outputs": [
    {
     "data": {
      "image/png": "[encoded data removed]",
      "text/plain": [
       "<Figure size 432x288 with 1 Axes>"
      ]
     },
     "metadata": {
      "needs_background": "light"
     },
     "output_type": "display_data"
    }
   ],
   "source": [
    "def relu(x):\n",
    "    return np.maximum(0, x)\n",
    "\n",
    "x = np.arange(-5.0, 5.0, 0.1)\n",
    "y = relu(x)\n",
    "\n",
    "plt.plot(x, y)\n",
    "plt.plot([0,0],[5.0,0.0], ':')\n",
    "plt.title('Relu Function')\n",
    "plt.show()"
   ]
  },
  {
   "cell_type": "markdown",
   "id": "6b8f54fe",
   "metadata": {},
   "source": [
    "### 5. 리키 렐루(Leaky ReLU)\n",
    "Leaky ReLU는 입력값이 음수일 경우 매우 작은 수를 반환하게 하여 기울기가 0이 되지 않게 해준다."
   ]
  },
  {
   "cell_type": "code",
   "execution_count": 23,
   "id": "42bd7623",
   "metadata": {},
   "outputs": [
    {
     "data": {
      "image/png": "[encoded data removed]",
      "text/plain": [
       "<Figure size 432x288 with 1 Axes>"
      ]
     },
     "metadata": {
      "needs_background": "light"
     },
     "output_type": "display_data"
    }
   ],
   "source": [
    "a = 0.1\n",
    "def leaky_relu(x):\n",
    "    return np.maximum(a*x, x)\n",
    "\n",
    "x = np.arange(-5.0, 5.0, 0.1)\n",
    "y = leaky_relu(x)\n",
    "\n",
    "plt.plot(x, y)\n",
    "plt.plot([0,0],[5.0,0.0], ':')\n",
    "plt.title('Leaky ReLU Function')\n",
    "plt.show()"
   ]
  },
  {
   "cell_type": "markdown",
   "id": "29629a34",
   "metadata": {},
   "source": [
    "### 6. 소프트맥스 함수(Softmax function)\n",
    "소프트맥스 함수는 출력층의 뉴런에서 주로 사용되고 특히 다중 클래스 분류(MultiClass Classification) 문제에 주로 사용된다."
   ]
  },
  {
   "cell_type": "code",
   "execution_count": 25,
   "id": "b39543e4",
   "metadata": {},
   "outputs": [
    {
     "data": {
      "image/png": "[encoded data removed]",
      "text/plain": [
       "<Figure size 432x288 with 1 Axes>"
      ]
     },
     "metadata": {
      "needs_background": "light"
     },
     "output_type": "display_data"
    }
   ],
   "source": [
    "x = np.arange(-5.0, 5.0, 0.1)\n",
    "y = np.exp(x) / np.sum(np.exp(x))\n",
    "\n",
    "plt.plot(x, y)\n",
    "plt.title('Softmax Function')\n",
    "plt.show()"
   ]
  },
  {
   "cell_type": "markdown",
   "id": "8a587acf",
   "metadata": {},
   "source": [
    "## 4. 다층 퍼셉트론으로 손글씨 분류하기"
   ]
  },
  {
   "cell_type": "code",
   "execution_count": 31,
   "id": "5fd21712",
   "metadata": {},
   "outputs": [],
   "source": [
    "%matplotlib inline\n",
    "import matplotlib.pyplot as plt\n",
    "from sklearn.datasets import load_digits\n",
    "\n",
    "digits = load_digits() #사이킷런 패키지에서 제공하는 손글씨 이미지 데이터"
   ]
  },
  {
   "cell_type": "code",
   "execution_count": 32,
   "id": "98b80255",
   "metadata": {},
   "outputs": [
    {
     "name": "stdout",
     "output_type": "stream",
     "text": [
      "[[ 0.  0.  5. 13.  9.  1.  0.  0.]\n",
      " [ 0.  0. 13. 15. 10. 15.  5.  0.]\n",
      " [ 0.  3. 15.  2.  0. 11.  8.  0.]\n",
      " [ 0.  4. 12.  0.  0.  8.  8.  0.]\n",
      " [ 0.  5.  8.  0.  0.  9.  8.  0.]\n",
      " [ 0.  4. 11.  0.  1. 12.  7.  0.]\n",
      " [ 0.  2. 14.  5. 10. 12.  0.  0.]\n",
      " [ 0.  0.  6. 13. 10.  0.  0.  0.]]\n"
     ]
    }
   ],
   "source": [
    "print(digits.images[0]) # 첫번째 샘플"
   ]
  },
  {
   "cell_type": "code",
   "execution_count": 33,
   "id": "50c6e6b3",
   "metadata": {},
   "outputs": [
    {
     "name": "stdout",
     "output_type": "stream",
     "text": [
      "0\n"
     ]
    }
   ],
   "source": [
    "print(digits.target[0]) # 첫번째 샘플의 레이블"
   ]
  },
  {
   "cell_type": "code",
   "execution_count": 34,
   "id": "3ece8a04",
   "metadata": {},
   "outputs": [
    {
     "name": "stdout",
     "output_type": "stream",
     "text": [
      "전체 샘플의 수 : 1797\n"
     ]
    }
   ],
   "source": [
    "print('전체 샘플의 수 : {}'.format(len(digits.images)))"
   ]
  },
  {
   "cell_type": "code",
   "execution_count": 52,
   "id": "3fcab9cd",
   "metadata": {},
   "outputs": [
    {
     "name": "stdout",
     "output_type": "stream",
     "text": [
      "0 번 인덱스 샘플의 레이블 : 0\n",
      "1 번 인덱스 샘플의 레이블 : 1\n",
      "2 번 인덱스 샘플의 레이블 : 2\n",
      "3 번 인덱스 샘플의 레이블 : 3\n",
      "4 번 인덱스 샘플의 레이블 : 4\n"
     ]
    },
    {
     "data": {
      "image/png": "[encoded data removed]",
      "text/plain": [
       "<Figure size 432x288 with 5 Axes>"
      ]
     },
     "metadata": {
      "needs_background": "light"
     },
     "output_type": "display_data"
    }
   ],
   "source": [
    "images_and_labels = list(zip(digits.images,digits.target))\n",
    "\n",
    "for index, (image, label) in enumerate(images_and_labels[:5]): # 5개의 샘플 출력\n",
    "    plt.subplot(1,5,index+1)\n",
    "    plt.axis('off')\n",
    "    plt.imshow(image, cmap=plt.cm.gray_r)\n",
    "    plt.title('sample: %d' %label)\n",
    "\n",
    "for i in range(5):\n",
    "    print(i,'번 인덱스 샘플의 레이블 :',digits.target[i])"
   ]
  },
  {
   "cell_type": "code",
   "execution_count": 71,
   "id": "7ea765d7",
   "metadata": {},
   "outputs": [
    {
     "name": "stdout",
     "output_type": "stream",
     "text": [
      "[ 0.  0.  5. 13.  9.  1.  0.  0.  0.  0. 13. 15. 10. 15.  5.  0.  0.  3.\n",
      " 15.  2.  0. 11.  8.  0.  0.  4. 12.  0.  0.  8.  8.  0.  0.  5.  8.  0.\n",
      "  0.  9.  8.  0.  0.  4. 11.  0.  1. 12.  7.  0.  0.  2. 14.  5. 10. 12.\n",
      "  0.  0.  0.  0.  6. 13. 10.  0.  0.  0.]\n"
     ]
    }
   ],
   "source": [
    "print(digits.data[0]) # 8*8 행렬의 이미지 샘플을 1*8 행렬로 reshape한 데이터\n",
    "\n",
    "X = digits.data # 이미지\n",
    "Y = digits.target # 이미지에 대한 레이블"
   ]
  },
  {
   "cell_type": "code",
   "execution_count": 59,
   "id": "c9f4372b",
   "metadata": {},
   "outputs": [
    {
     "name": "stdout",
     "output_type": "stream",
     "text": [
      "Epoch    0/100 Cost: 2.542127\n",
      "Epoch   10/100 Cost: 2.021585\n",
      "Epoch   20/100 Cost: 1.718197\n",
      "Epoch   30/100 Cost: 1.348234\n",
      "Epoch   40/100 Cost: 0.983505\n",
      "Epoch   50/100 Cost: 0.693503\n",
      "Epoch   60/100 Cost: 0.500640\n",
      "Epoch   70/100 Cost: 0.377824\n",
      "Epoch   80/100 Cost: 0.298326\n",
      "Epoch   90/100 Cost: 0.245365\n"
     ]
    },
    {
     "data": {
      "text/plain": [
       "[<matplotlib.lines.Line2D at 0x1d78dade808>]"
      ]
     },
     "execution_count": 59,
     "metadata": {},
     "output_type": "execute_result"
    },
    {
     "data": {
      "image/png": "[encoded data removed]",
      "text/plain": [
       "<Figure size 432x288 with 1 Axes>"
      ]
     },
     "metadata": {
      "needs_background": "light"
     },
     "output_type": "display_data"
    }
   ],
   "source": [
    "import torch\n",
    "import torch.nn as nn\n",
    "from torch import optim\n",
    "\n",
    "model = nn.Sequential(\n",
    "    nn.Linear(64,32),\n",
    "    nn.ReLU(),\n",
    "    nn.Linear(32,16),\n",
    "    nn.ReLU(),\n",
    "    nn.Linear(16,10)\n",
    ")\n",
    "\n",
    "X = torch.tensor(X, dtype=torch.float32)\n",
    "Y = torch.tensor(Y, dtype=torch.int64)\n",
    "\n",
    "loss_fn = nn.CrossEntropyLoss() # 소프트맥스 함수를 포함한다.\n",
    "\n",
    "optimizer = optim.Adam(model.parameters())\n",
    "\n",
    "losses = []\n",
    "\n",
    "for epoch in range(100):\n",
    "    optimizer.zero_grad()\n",
    "    y_pred = model(X)\n",
    "    loss = loss_fn(y_pred,Y)\n",
    "    loss.backward()\n",
    "    optimizer.step()\n",
    "    \n",
    "    if epoch % 10 == 0:\n",
    "        print('Epoch {:4d}/{} Cost: {:.6f}'.format(\n",
    "            epoch, 100, loss.item()\n",
    "        ))\n",
    "    losses.append(loss.item())\n",
    "    \n",
    "plt.title('loss')\n",
    "plt.plot(losses)"
   ]
  },
  {
   "cell_type": "markdown",
   "id": "fbfd26f6",
   "metadata": {},
   "source": [
    "## 5. 과적합(Overfitting)을 막는 방법들\n",
    "### 1. 데이터의 양을 늘리기\n",
    "* 데이터의 양을 늘릴 수록 모델은 데이터의 일반적인 패턴을 학습 \n",
    "* 데이터의 양이 적을 경우 기존의 데이터를 조금씩 변형하고 추가하는 방식인 데이터 증식을 사용\n",
    "\n",
    "### 2. 모델의 복잡도 줄이기\n",
    "* ANN의 복잡도는 은닉층의 수나 매개변수의 수로 결정되므로 과적합 현상이 포착되었을 때, 인공 신경망의 복잡도를 줄이는 방법도 있다.\n",
    "\n",
    "### 3. 가중치 감소(weight decay)\n",
    "* 가중치 값이 커지게 될 수록 학습데이터에 영향을 많이 받게 되고, 학습데이터에 모델이 맞춰지게 됨.\n",
    "* 가중치들의 값이 증가하는 것을 제한함으로써 Overfitting 방지\n",
    "\n",
    "### 4. 드롭아웃(Dropout)\n",
    "* 학습 과정에서 신경망의 일부를 사용하지 않는 방법\n",
    "* ANN이 특정 뉴런에 의존적인것 방지해준다."
   ]
  }
 ],
 "metadata": {
  "kernelspec": {
   "display_name": "Python 3 (ipykernel)",
   "language": "python",
   "name": "python3"
  },
  "language_info": {
   "codemirror_mode": {
    "name": "ipython",
    "version": 3
   },
   "file_extension": ".py",
   "mimetype": "text/x-python",
   "name": "python",
   "nbconvert_exporter": "python",
   "pygments_lexer": "ipython3",
   "version": "3.7.11"
  }
 },
 "nbformat": 4,
 "nbformat_minor": 5
}
